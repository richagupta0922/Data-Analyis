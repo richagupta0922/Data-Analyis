{
 "cells": [
  {
   "cell_type": "markdown",
   "id": "8cf39c9c-f2f0-4a40-aed5-98525ca67b09",
   "metadata": {},
   "source": [
    "# NY Motor Vehicle Collisions – Exploratory Data Analysis  \n",
    "In this notebook, we analyze New York’s Vehicular crash data available at https://data.cityofnewyork.us/Public-Safety/Motor-Vehicle-Collisions-Crashes/h9gi-nx95\n",
    "\n",
    "\n",
    "The data contains information from all police reported motor vehicle collisions in NYC. The information for this dataset is collated from the police report, called MV104-AN, which is required to be filled out for collisions where someone is injured or killed, or where there is at least $1000 worth of damage.\n",
    "\n",
    "Data is available from 2012-07-01 onwards, however for this analysis, we will limit ourselves to the period up to 2023-08-15, which is when the data was downloaded.\n",
    "\n",
    "We find that this data contains over 2 million observations, which allows us to explore several aspects of vehicle crashes in NY's boroughs.\n",
    "\n",
    "The data dictionary for the data is also available at the URL above.\n",
    "\n",
    "First, we perform unstructured exploration of the data, and then try to answer the following questions:\n",
    "\n",
    "- We look for which borough has had the maximum number of crashes reported since 2012.\n",
    "\n",
    "- We relate the number of crashes to to the borough's population to find out which borough has the maximum number of crashes for every 100,000 people. Even though the data does not have this information, we can combine the crash data with the population estimates for the boroughs also available from the City of New York's website (https://data.cityofnewyork.us/City-Government/New-York-City-Population-by-Borough-1950-2040/xywu-7bv9)\n",
    "\n",
    "| Borough | Population |\n",
    "| --- | --- |\n",
    "| Bronx | 1446788 |\n",
    "| Brooklyn | 2648452 |\n",
    "| Manhattan | 1638281 |\n",
    "| Queens | 2330295 |\n",
    "| Staten Island | 487155 |  \n",
    "\n",
    "  \n",
    "- We look for the leading cause of crashes\n",
    "\n",
    "- We also look for the top-3 causes of crashes, and try to calculate what proportion of all crashes are caused by these top-3 causes.\n",
    "\n",
    "- We then look to some of the more serious implications of crashes by examining how many accidents involved at least one fatality.\n",
    "\n",
    "- We then compute, on average, out of every 1000 accidents, how many have resulted in at least one person dead.\n",
    "\n",
    "- We also look for missing data and try to compute the proportion of accidents in the data that do not have a Borough code.\n",
    "\n",
    "- The fields 'VEHICLE TYPE CODE 1' and 'VEHICLE TYPE CODE 2' represent the first two vehicles involved in the accident.  We look for which combinations of vehicles have the most number of accidents.\n"
   ]
  },
  {
   "cell_type": "code",
   "execution_count": 7,
   "id": "e90154cc-c88a-4fe4-8aa2-f24d9a27ffac",
   "metadata": {
    "tags": []
   },
   "outputs": [],
   "source": [
    "import pandas as pd\n",
    "import numpy as np\n",
    "import seaborn as sns\n",
    "import os\n",
    "import matplotlib.pyplot as plt\n",
    "import phik\n",
    "from IPython.display import Markdown as md"
   ]
  },
  {
   "cell_type": "code",
   "execution_count": 10,
   "id": "aa8a1971-98b8-41ff-801d-eb9da4758bb6",
   "metadata": {
    "tags": []
   },
   "outputs": [
    {
     "data": {
      "text/html": [
       "<div>\n",
       "<style scoped>\n",
       "    .dataframe tbody tr th:only-of-type {\n",
       "        vertical-align: middle;\n",
       "    }\n",
       "\n",
       "    .dataframe tbody tr th {\n",
       "        vertical-align: top;\n",
       "    }\n",
       "\n",
       "    .dataframe thead th {\n",
       "        text-align: right;\n",
       "    }\n",
       "</style>\n",
       "<table border=\"1\" class=\"dataframe\">\n",
       "  <thead>\n",
       "    <tr style=\"text-align: right;\">\n",
       "      <th></th>\n",
       "      <th>CRASH DATE_CRASH TIME</th>\n",
       "      <th>BOROUGH</th>\n",
       "      <th>ZIP CODE</th>\n",
       "      <th>LATITUDE</th>\n",
       "      <th>LONGITUDE</th>\n",
       "      <th>LOCATION</th>\n",
       "      <th>ON STREET NAME</th>\n",
       "      <th>CROSS STREET NAME</th>\n",
       "      <th>OFF STREET NAME</th>\n",
       "      <th>NUMBER OF PERSONS INJURED</th>\n",
       "      <th>...</th>\n",
       "      <th>CONTRIBUTING FACTOR VEHICLE 2</th>\n",
       "      <th>CONTRIBUTING FACTOR VEHICLE 3</th>\n",
       "      <th>CONTRIBUTING FACTOR VEHICLE 4</th>\n",
       "      <th>CONTRIBUTING FACTOR VEHICLE 5</th>\n",
       "      <th>COLLISION_ID</th>\n",
       "      <th>VEHICLE TYPE CODE 1</th>\n",
       "      <th>VEHICLE TYPE CODE 2</th>\n",
       "      <th>VEHICLE TYPE CODE 3</th>\n",
       "      <th>VEHICLE TYPE CODE 4</th>\n",
       "      <th>VEHICLE TYPE CODE 5</th>\n",
       "    </tr>\n",
       "  </thead>\n",
       "  <tbody>\n",
       "    <tr>\n",
       "      <th>0</th>\n",
       "      <td>2021-09-11 02:39:00</td>\n",
       "      <td>NaN</td>\n",
       "      <td>NaN</td>\n",
       "      <td>NaN</td>\n",
       "      <td>NaN</td>\n",
       "      <td>NaN</td>\n",
       "      <td>WHITESTONE EXPRESSWAY</td>\n",
       "      <td>20 AVENUE</td>\n",
       "      <td>NaN</td>\n",
       "      <td>2.0</td>\n",
       "      <td>...</td>\n",
       "      <td>Unspecified</td>\n",
       "      <td>NaN</td>\n",
       "      <td>NaN</td>\n",
       "      <td>NaN</td>\n",
       "      <td>4455765</td>\n",
       "      <td>Sedan</td>\n",
       "      <td>Sedan</td>\n",
       "      <td>NaN</td>\n",
       "      <td>NaN</td>\n",
       "      <td>NaN</td>\n",
       "    </tr>\n",
       "    <tr>\n",
       "      <th>1</th>\n",
       "      <td>2022-03-26 11:45:00</td>\n",
       "      <td>NaN</td>\n",
       "      <td>NaN</td>\n",
       "      <td>NaN</td>\n",
       "      <td>NaN</td>\n",
       "      <td>NaN</td>\n",
       "      <td>QUEENSBORO BRIDGE UPPER</td>\n",
       "      <td>NaN</td>\n",
       "      <td>NaN</td>\n",
       "      <td>1.0</td>\n",
       "      <td>...</td>\n",
       "      <td>NaN</td>\n",
       "      <td>NaN</td>\n",
       "      <td>NaN</td>\n",
       "      <td>NaN</td>\n",
       "      <td>4513547</td>\n",
       "      <td>Sedan</td>\n",
       "      <td>NaN</td>\n",
       "      <td>NaN</td>\n",
       "      <td>NaN</td>\n",
       "      <td>NaN</td>\n",
       "    </tr>\n",
       "    <tr>\n",
       "      <th>2</th>\n",
       "      <td>2022-06-29 06:55:00</td>\n",
       "      <td>NaN</td>\n",
       "      <td>NaN</td>\n",
       "      <td>NaN</td>\n",
       "      <td>NaN</td>\n",
       "      <td>NaN</td>\n",
       "      <td>THROGS NECK BRIDGE</td>\n",
       "      <td>NaN</td>\n",
       "      <td>NaN</td>\n",
       "      <td>0.0</td>\n",
       "      <td>...</td>\n",
       "      <td>Unspecified</td>\n",
       "      <td>NaN</td>\n",
       "      <td>NaN</td>\n",
       "      <td>NaN</td>\n",
       "      <td>4541903</td>\n",
       "      <td>Sedan</td>\n",
       "      <td>Pick-up Truck</td>\n",
       "      <td>NaN</td>\n",
       "      <td>NaN</td>\n",
       "      <td>NaN</td>\n",
       "    </tr>\n",
       "    <tr>\n",
       "      <th>3</th>\n",
       "      <td>2021-09-11 09:35:00</td>\n",
       "      <td>BROOKLYN</td>\n",
       "      <td>11208.0</td>\n",
       "      <td>40.667202</td>\n",
       "      <td>-73.866500</td>\n",
       "      <td>(40.667202, -73.8665)</td>\n",
       "      <td>NaN</td>\n",
       "      <td>NaN</td>\n",
       "      <td>1211      LORING AVENUE</td>\n",
       "      <td>0.0</td>\n",
       "      <td>...</td>\n",
       "      <td>NaN</td>\n",
       "      <td>NaN</td>\n",
       "      <td>NaN</td>\n",
       "      <td>NaN</td>\n",
       "      <td>4456314</td>\n",
       "      <td>Sedan</td>\n",
       "      <td>NaN</td>\n",
       "      <td>NaN</td>\n",
       "      <td>NaN</td>\n",
       "      <td>NaN</td>\n",
       "    </tr>\n",
       "    <tr>\n",
       "      <th>4</th>\n",
       "      <td>2021-12-14 08:13:00</td>\n",
       "      <td>BROOKLYN</td>\n",
       "      <td>11233.0</td>\n",
       "      <td>40.683304</td>\n",
       "      <td>-73.917274</td>\n",
       "      <td>(40.683304, -73.917274)</td>\n",
       "      <td>SARATOGA AVENUE</td>\n",
       "      <td>DECATUR STREET</td>\n",
       "      <td>NaN</td>\n",
       "      <td>0.0</td>\n",
       "      <td>...</td>\n",
       "      <td>NaN</td>\n",
       "      <td>NaN</td>\n",
       "      <td>NaN</td>\n",
       "      <td>NaN</td>\n",
       "      <td>4486609</td>\n",
       "      <td>NaN</td>\n",
       "      <td>NaN</td>\n",
       "      <td>NaN</td>\n",
       "      <td>NaN</td>\n",
       "      <td>NaN</td>\n",
       "    </tr>\n",
       "    <tr>\n",
       "      <th>...</th>\n",
       "      <td>...</td>\n",
       "      <td>...</td>\n",
       "      <td>...</td>\n",
       "      <td>...</td>\n",
       "      <td>...</td>\n",
       "      <td>...</td>\n",
       "      <td>...</td>\n",
       "      <td>...</td>\n",
       "      <td>...</td>\n",
       "      <td>...</td>\n",
       "      <td>...</td>\n",
       "      <td>...</td>\n",
       "      <td>...</td>\n",
       "      <td>...</td>\n",
       "      <td>...</td>\n",
       "      <td>...</td>\n",
       "      <td>...</td>\n",
       "      <td>...</td>\n",
       "      <td>...</td>\n",
       "      <td>...</td>\n",
       "      <td>...</td>\n",
       "    </tr>\n",
       "    <tr>\n",
       "      <th>2018240</th>\n",
       "      <td>2023-07-03 18:05:00</td>\n",
       "      <td>NaN</td>\n",
       "      <td>NaN</td>\n",
       "      <td>40.866806</td>\n",
       "      <td>-73.931010</td>\n",
       "      <td>(40.866806, -73.93101)</td>\n",
       "      <td>RIVERSIDE DRIVE</td>\n",
       "      <td>NaN</td>\n",
       "      <td>NaN</td>\n",
       "      <td>0.0</td>\n",
       "      <td>...</td>\n",
       "      <td>Unspecified</td>\n",
       "      <td>NaN</td>\n",
       "      <td>NaN</td>\n",
       "      <td>NaN</td>\n",
       "      <td>4648110</td>\n",
       "      <td>Sedan</td>\n",
       "      <td>Sedan</td>\n",
       "      <td>NaN</td>\n",
       "      <td>NaN</td>\n",
       "      <td>NaN</td>\n",
       "    </tr>\n",
       "    <tr>\n",
       "      <th>2018241</th>\n",
       "      <td>2023-07-22 21:39:00</td>\n",
       "      <td>BRONX</td>\n",
       "      <td>10457.0</td>\n",
       "      <td>40.844177</td>\n",
       "      <td>-73.902920</td>\n",
       "      <td>(40.844177, -73.90292)</td>\n",
       "      <td>EAST 174 STREET</td>\n",
       "      <td>WEBSTER AVENUE</td>\n",
       "      <td>NaN</td>\n",
       "      <td>1.0</td>\n",
       "      <td>...</td>\n",
       "      <td>NaN</td>\n",
       "      <td>NaN</td>\n",
       "      <td>NaN</td>\n",
       "      <td>NaN</td>\n",
       "      <td>4648117</td>\n",
       "      <td>Sedan</td>\n",
       "      <td>NaN</td>\n",
       "      <td>NaN</td>\n",
       "      <td>NaN</td>\n",
       "      <td>NaN</td>\n",
       "    </tr>\n",
       "    <tr>\n",
       "      <th>2018242</th>\n",
       "      <td>2023-07-02 17:55:00</td>\n",
       "      <td>MANHATTAN</td>\n",
       "      <td>10006.0</td>\n",
       "      <td>40.711033</td>\n",
       "      <td>-74.014540</td>\n",
       "      <td>(40.711033, -74.01454)</td>\n",
       "      <td>WEST STREET</td>\n",
       "      <td>LIBERTY STREET</td>\n",
       "      <td>NaN</td>\n",
       "      <td>0.0</td>\n",
       "      <td>...</td>\n",
       "      <td>NaN</td>\n",
       "      <td>NaN</td>\n",
       "      <td>NaN</td>\n",
       "      <td>NaN</td>\n",
       "      <td>4648366</td>\n",
       "      <td>Taxi</td>\n",
       "      <td>NaN</td>\n",
       "      <td>NaN</td>\n",
       "      <td>NaN</td>\n",
       "      <td>NaN</td>\n",
       "    </tr>\n",
       "    <tr>\n",
       "      <th>2018243</th>\n",
       "      <td>2023-07-22 13:15:00</td>\n",
       "      <td>QUEENS</td>\n",
       "      <td>11433.0</td>\n",
       "      <td>40.691580</td>\n",
       "      <td>-73.793190</td>\n",
       "      <td>(40.69158, -73.79319)</td>\n",
       "      <td>110 AVENUE</td>\n",
       "      <td>157 STREET</td>\n",
       "      <td>NaN</td>\n",
       "      <td>1.0</td>\n",
       "      <td>...</td>\n",
       "      <td>Driver Inattention/Distraction</td>\n",
       "      <td>NaN</td>\n",
       "      <td>NaN</td>\n",
       "      <td>NaN</td>\n",
       "      <td>4648129</td>\n",
       "      <td>Station Wagon/Sport Utility Vehicle</td>\n",
       "      <td>E-Bike</td>\n",
       "      <td>NaN</td>\n",
       "      <td>NaN</td>\n",
       "      <td>NaN</td>\n",
       "    </tr>\n",
       "    <tr>\n",
       "      <th>2018244</th>\n",
       "      <td>2023-07-22 03:00:00</td>\n",
       "      <td>QUEENS</td>\n",
       "      <td>11433.0</td>\n",
       "      <td>40.700240</td>\n",
       "      <td>-73.792854</td>\n",
       "      <td>(40.70024, -73.792854)</td>\n",
       "      <td>SOUTH ROAD</td>\n",
       "      <td>164 STREET</td>\n",
       "      <td>NaN</td>\n",
       "      <td>0.0</td>\n",
       "      <td>...</td>\n",
       "      <td>NaN</td>\n",
       "      <td>NaN</td>\n",
       "      <td>NaN</td>\n",
       "      <td>NaN</td>\n",
       "      <td>4647913</td>\n",
       "      <td>Sedan</td>\n",
       "      <td>NaN</td>\n",
       "      <td>NaN</td>\n",
       "      <td>NaN</td>\n",
       "      <td>NaN</td>\n",
       "    </tr>\n",
       "  </tbody>\n",
       "</table>\n",
       "<p>2018245 rows × 28 columns</p>\n",
       "</div>"
      ],
      "text/plain": [
       "        CRASH DATE_CRASH TIME    BOROUGH ZIP CODE   LATITUDE  LONGITUDE  \\\n",
       "0         2021-09-11 02:39:00        NaN      NaN        NaN        NaN   \n",
       "1         2022-03-26 11:45:00        NaN      NaN        NaN        NaN   \n",
       "2         2022-06-29 06:55:00        NaN      NaN        NaN        NaN   \n",
       "3         2021-09-11 09:35:00   BROOKLYN  11208.0  40.667202 -73.866500   \n",
       "4         2021-12-14 08:13:00   BROOKLYN  11233.0  40.683304 -73.917274   \n",
       "...                       ...        ...      ...        ...        ...   \n",
       "2018240   2023-07-03 18:05:00        NaN      NaN  40.866806 -73.931010   \n",
       "2018241   2023-07-22 21:39:00      BRONX  10457.0  40.844177 -73.902920   \n",
       "2018242   2023-07-02 17:55:00  MANHATTAN  10006.0  40.711033 -74.014540   \n",
       "2018243   2023-07-22 13:15:00     QUEENS  11433.0  40.691580 -73.793190   \n",
       "2018244   2023-07-22 03:00:00     QUEENS  11433.0  40.700240 -73.792854   \n",
       "\n",
       "                        LOCATION           ON STREET NAME CROSS STREET NAME  \\\n",
       "0                            NaN    WHITESTONE EXPRESSWAY         20 AVENUE   \n",
       "1                            NaN  QUEENSBORO BRIDGE UPPER               NaN   \n",
       "2                            NaN       THROGS NECK BRIDGE               NaN   \n",
       "3          (40.667202, -73.8665)                      NaN               NaN   \n",
       "4        (40.683304, -73.917274)          SARATOGA AVENUE    DECATUR STREET   \n",
       "...                          ...                      ...               ...   \n",
       "2018240   (40.866806, -73.93101)          RIVERSIDE DRIVE               NaN   \n",
       "2018241   (40.844177, -73.90292)          EAST 174 STREET    WEBSTER AVENUE   \n",
       "2018242   (40.711033, -74.01454)              WEST STREET    LIBERTY STREET   \n",
       "2018243    (40.69158, -73.79319)               110 AVENUE        157 STREET   \n",
       "2018244   (40.70024, -73.792854)               SOUTH ROAD        164 STREET   \n",
       "\n",
       "                 OFF STREET NAME  NUMBER OF PERSONS INJURED  ...  \\\n",
       "0                            NaN                        2.0  ...   \n",
       "1                            NaN                        1.0  ...   \n",
       "2                            NaN                        0.0  ...   \n",
       "3        1211      LORING AVENUE                        0.0  ...   \n",
       "4                            NaN                        0.0  ...   \n",
       "...                          ...                        ...  ...   \n",
       "2018240                      NaN                        0.0  ...   \n",
       "2018241                      NaN                        1.0  ...   \n",
       "2018242                      NaN                        0.0  ...   \n",
       "2018243                      NaN                        1.0  ...   \n",
       "2018244                      NaN                        0.0  ...   \n",
       "\n",
       "          CONTRIBUTING FACTOR VEHICLE 2  CONTRIBUTING FACTOR VEHICLE 3  \\\n",
       "0                           Unspecified                            NaN   \n",
       "1                                   NaN                            NaN   \n",
       "2                           Unspecified                            NaN   \n",
       "3                                   NaN                            NaN   \n",
       "4                                   NaN                            NaN   \n",
       "...                                 ...                            ...   \n",
       "2018240                     Unspecified                            NaN   \n",
       "2018241                             NaN                            NaN   \n",
       "2018242                             NaN                            NaN   \n",
       "2018243  Driver Inattention/Distraction                            NaN   \n",
       "2018244                             NaN                            NaN   \n",
       "\n",
       "         CONTRIBUTING FACTOR VEHICLE 4  CONTRIBUTING FACTOR VEHICLE 5  \\\n",
       "0                                  NaN                            NaN   \n",
       "1                                  NaN                            NaN   \n",
       "2                                  NaN                            NaN   \n",
       "3                                  NaN                            NaN   \n",
       "4                                  NaN                            NaN   \n",
       "...                                ...                            ...   \n",
       "2018240                            NaN                            NaN   \n",
       "2018241                            NaN                            NaN   \n",
       "2018242                            NaN                            NaN   \n",
       "2018243                            NaN                            NaN   \n",
       "2018244                            NaN                            NaN   \n",
       "\n",
       "         COLLISION_ID                  VEHICLE TYPE CODE 1  \\\n",
       "0             4455765                                Sedan   \n",
       "1             4513547                                Sedan   \n",
       "2             4541903                                Sedan   \n",
       "3             4456314                                Sedan   \n",
       "4             4486609                                  NaN   \n",
       "...               ...                                  ...   \n",
       "2018240       4648110                                Sedan   \n",
       "2018241       4648117                                Sedan   \n",
       "2018242       4648366                                 Taxi   \n",
       "2018243       4648129  Station Wagon/Sport Utility Vehicle   \n",
       "2018244       4647913                                Sedan   \n",
       "\n",
       "         VEHICLE TYPE CODE 2 VEHICLE TYPE CODE 3 VEHICLE TYPE CODE 4  \\\n",
       "0                      Sedan                 NaN                 NaN   \n",
       "1                        NaN                 NaN                 NaN   \n",
       "2              Pick-up Truck                 NaN                 NaN   \n",
       "3                        NaN                 NaN                 NaN   \n",
       "4                        NaN                 NaN                 NaN   \n",
       "...                      ...                 ...                 ...   \n",
       "2018240                Sedan                 NaN                 NaN   \n",
       "2018241                  NaN                 NaN                 NaN   \n",
       "2018242                  NaN                 NaN                 NaN   \n",
       "2018243               E-Bike                 NaN                 NaN   \n",
       "2018244                  NaN                 NaN                 NaN   \n",
       "\n",
       "        VEHICLE TYPE CODE 5  \n",
       "0                       NaN  \n",
       "1                       NaN  \n",
       "2                       NaN  \n",
       "3                       NaN  \n",
       "4                       NaN  \n",
       "...                     ...  \n",
       "2018240                 NaN  \n",
       "2018241                 NaN  \n",
       "2018242                 NaN  \n",
       "2018243                 NaN  \n",
       "2018244                 NaN  \n",
       "\n",
       "[2018245 rows x 28 columns]"
      ]
     },
     "execution_count": 10,
     "metadata": {},
     "output_type": "execute_result"
    }
   ],
   "source": [
    "df = pd.read_pickle(\"../shared/Motor_Vehicle_Collisions_-_Crashes.pkl\")\n",
    "df\n"
   ]
  },
  {
   "cell_type": "markdown",
   "id": "87123ec4-745a-471d-9439-41b02b66e474",
   "metadata": {},
   "source": [
    "***\n",
    "### Show some exploratory data analysis here\n",
    "***"
   ]
  },
  {
   "cell_type": "code",
   "execution_count": 11,
   "id": "4c22990a-2a8f-467f-b81e-9ea87305efae",
   "metadata": {
    "tags": []
   },
   "outputs": [
    {
     "data": {
      "image/png": "[encoded data removed]",
      "text/plain": [
       "<Figure size 1000x600 with 1 Axes>"
      ]
     },
     "metadata": {},
     "output_type": "display_data"
    }
   ],
   "source": [
    "#Bar graph to show borough with maximum number of crashes\n",
    "\n",
    "import matplotlib.pyplot as plt\n",
    "# 4. Create a bar graph\n",
    "borough_crash_totals = df.groupby('BOROUGH')['CRASH DATE_CRASH TIME'].count().reset_index()\n",
    "borough_crash_totals\n",
    "plt.figure(figsize=(10, 6))\n",
    "plt.bar(borough_crash_totals['BOROUGH'], borough_crash_totals['CRASH DATE_CRASH TIME'])\n",
    "plt.xlabel(\"Borough\")\n",
    "plt.ylabel(\"Total Crashes\")\n",
    "plt.title(\"Total Crashes by Borough since 2012\")\n",
    "plt.xticks(rotation=45, ha=\"right\")\n",
    "plt.tight_layout()\n",
    "\n",
    "# Show the bar graph\n",
    "plt.show()\n"
   ]
  },
  {
   "cell_type": "code",
   "execution_count": 12,
   "id": "e62549ef-a3e5-41c0-8f3c-9575d82457b5",
   "metadata": {
    "tags": []
   },
   "outputs": [
    {
     "data": {
      "image/png": "[encoded data removed]",
      "text/plain": [
       "<Figure size 1000x600 with 1 Axes>"
      ]
     },
     "metadata": {},
     "output_type": "display_data"
    }
   ],
   "source": [
    "# Total number of people injured by Borough\n",
    "\n",
    "\n",
    "# 1. Group data by borough and calculate the total number of people injured\n",
    "borough_injured_totals = df.groupby('BOROUGH')['NUMBER OF PERSONS INJURED'].sum().reset_index()\n",
    "borough_injured_totals = borough_injured_totals.sort_values(by='NUMBER OF PERSONS INJURED', ascending=False)\n",
    "\n",
    "# 2. Create a bar graph\n",
    "plt.figure(figsize=(10, 6))\n",
    "plt.bar(borough_injured_totals['BOROUGH'], borough_injured_totals['NUMBER OF PERSONS INJURED'], color='skyblue')\n",
    "plt.xlabel(\"Borough\")\n",
    "plt.ylabel(\"Total Number of People Injured\")\n",
    "plt.title(\"Total Number of People Injured by Borough\")\n",
    "plt.xticks(rotation=45, ha=\"right\")\n",
    "plt.tight_layout()\n",
    "\n",
    "# Show the bar graph\n",
    "plt.show()\n"
   ]
  },
  {
   "cell_type": "code",
   "execution_count": 13,
   "id": "fa61d439-e352-4418-ae42-e7d37ab057a4",
   "metadata": {
    "tags": []
   },
   "outputs": [
    {
     "data": {
      "image/png": "[encoded data removed]",
      "text/plain": [
       "<Figure size 1000x600 with 1 Axes>"
      ]
     },
     "metadata": {},
     "output_type": "display_data"
    }
   ],
   "source": [
    "# Accidents before 6PM\n",
    "\n",
    "\n",
    "\n",
    "# Convert the 'TIME' column to datetime\n",
    "df['TIME'] = pd.to_datetime(df['CRASH DATE_CRASH TIME'])\n",
    "\n",
    "# 1. Filter data for collisions before 6 PM\n",
    "collisions_before_6pm = df[df['CRASH DATE_CRASH TIME'].dt.hour < 18]\n",
    "\n",
    "# 2. Group data by hour and calculate the count of collisions for each hour\n",
    "hourly_collisions = collisions_before_6pm.groupby(collisions_before_6pm['CRASH DATE_CRASH TIME'].dt.hour)['CRASH DATE_CRASH TIME'].count()\n",
    "\n",
    "# 3. Create a line graph\n",
    "plt.figure(figsize=(10, 6))\n",
    "plt.plot(hourly_collisions.index, hourly_collisions.values, marker='o', linestyle='-', color='blue')\n",
    "plt.xlabel(\"Hour of the Day\")\n",
    "plt.ylabel(\"Number of Collisions\")\n",
    "plt.title(\"Number of Collisions Before 6 PM by Hour\")\n",
    "plt.grid(True)\n",
    "plt.xticks(range(0, 18))\n",
    "plt.tight_layout()\n",
    "\n",
    "# Show the line graph\n",
    "plt.show()"
   ]
  },
  {
   "cell_type": "code",
   "execution_count": 14,
   "id": "f778ec29-1e68-45c5-a0a7-a09c1d11cce0",
   "metadata": {
    "tags": []
   },
   "outputs": [
    {
     "data": {
      "image/png": "[encoded data removed]",
      "text/plain": [
       "<Figure size 1000x600 with 1 Axes>"
      ]
     },
     "metadata": {},
     "output_type": "display_data"
    }
   ],
   "source": [
    "# Accidents after 6pm\n",
    "\n",
    "\n",
    "\n",
    "# Convert the 'TIME' column to datetime\n",
    "df['TIME'] = pd.to_datetime(df['CRASH DATE_CRASH TIME'])\n",
    "\n",
    "# 1. Filter data for collisions before 6 PM\n",
    "collisions_after_6pm = df[df['CRASH DATE_CRASH TIME'].dt.hour > 18]\n",
    "\n",
    "\n",
    "# 2. Group data by hour and calculate the count of collisions for each hour\n",
    "hourly_collisions = collisions_after_6pm.groupby(collisions_after_6pm['TIME'].dt.hour)['TIME'].count()\n",
    "\n",
    "# 3. Create a line graph\n",
    "plt.figure(figsize=(10, 6))\n",
    "plt.plot(hourly_collisions.index, hourly_collisions.values, marker='o', linestyle='-', color='blue')\n",
    "plt.xlabel(\"Hour of the Day\")\n",
    "plt.ylabel(\"Number of Collisions\")\n",
    "plt.title(\"Number of Collisions After 6 PM by Hour\")\n",
    "plt.grid(True)\n",
    "plt.xticks(range(18, 24))\n",
    "plt.tight_layout()\n",
    "\n",
    "# Show the line graph\n",
    "plt.show()\n"
   ]
  },
  {
   "cell_type": "markdown",
   "id": "1e7102e9-629a-4594-998d-a9b1e3e8c598",
   "metadata": {},
   "source": [
    "## Borough with the maximum number of crashes reported since 2012"
   ]
  },
  {
   "cell_type": "code",
   "execution_count": 15,
   "id": "878e157a-5f36-410b-bdfb-c8d249da8e32",
   "metadata": {
    "tags": []
   },
   "outputs": [
    {
     "data": {
      "text/html": [
       "<div>\n",
       "<style scoped>\n",
       "    .dataframe tbody tr th:only-of-type {\n",
       "        vertical-align: middle;\n",
       "    }\n",
       "\n",
       "    .dataframe tbody tr th {\n",
       "        vertical-align: top;\n",
       "    }\n",
       "\n",
       "    .dataframe thead th {\n",
       "        text-align: right;\n",
       "    }\n",
       "</style>\n",
       "<table border=\"1\" class=\"dataframe\">\n",
       "  <thead>\n",
       "    <tr style=\"text-align: right;\">\n",
       "      <th></th>\n",
       "      <th>BOROUGH</th>\n",
       "      <th>CRASH DATE_CRASH TIME</th>\n",
       "    </tr>\n",
       "  </thead>\n",
       "  <tbody>\n",
       "    <tr>\n",
       "      <th>0</th>\n",
       "      <td>BRONX</td>\n",
       "      <td>205345</td>\n",
       "    </tr>\n",
       "    <tr>\n",
       "      <th>1</th>\n",
       "      <td>BROOKLYN</td>\n",
       "      <td>441026</td>\n",
       "    </tr>\n",
       "    <tr>\n",
       "      <th>2</th>\n",
       "      <td>MANHATTAN</td>\n",
       "      <td>313266</td>\n",
       "    </tr>\n",
       "    <tr>\n",
       "      <th>3</th>\n",
       "      <td>QUEENS</td>\n",
       "      <td>372457</td>\n",
       "    </tr>\n",
       "    <tr>\n",
       "      <th>4</th>\n",
       "      <td>STATEN ISLAND</td>\n",
       "      <td>58297</td>\n",
       "    </tr>\n",
       "  </tbody>\n",
       "</table>\n",
       "</div>"
      ],
      "text/plain": [
       "         BOROUGH  CRASH DATE_CRASH TIME\n",
       "0          BRONX                 205345\n",
       "1       BROOKLYN                 441026\n",
       "2      MANHATTAN                 313266\n",
       "3         QUEENS                 372457\n",
       "4  STATEN ISLAND                  58297"
      ]
     },
     "execution_count": 15,
     "metadata": {},
     "output_type": "execute_result"
    }
   ],
   "source": [
    "borough_crash_totals = df.groupby('BOROUGH')['CRASH DATE_CRASH TIME'].count().reset_index()\n",
    "borough_crash_totals"
   ]
  },
  {
   "cell_type": "code",
   "execution_count": null,
   "id": "6a3f133c-f087-4fb5-9c85-eaa4e02f0a3e",
   "metadata": {},
   "outputs": [],
   "source": []
  },
  {
   "cell_type": "markdown",
   "id": "9dcc3fa1-abc2-45cf-b608-eb8eb6317f53",
   "metadata": {},
   "source": [
    "## Borough with the maximum number of crashes adjusted for population"
   ]
  },
  {
   "cell_type": "code",
   "execution_count": 16,
   "id": "1a33e116-5ef7-4abf-bd46-9fa339149b6a",
   "metadata": {
    "tags": []
   },
   "outputs": [
    {
     "data": {
      "text/html": [
       "<div>\n",
       "<style scoped>\n",
       "    .dataframe tbody tr th:only-of-type {\n",
       "        vertical-align: middle;\n",
       "    }\n",
       "\n",
       "    .dataframe tbody tr th {\n",
       "        vertical-align: top;\n",
       "    }\n",
       "\n",
       "    .dataframe thead th {\n",
       "        text-align: right;\n",
       "    }\n",
       "</style>\n",
       "<table border=\"1\" class=\"dataframe\">\n",
       "  <thead>\n",
       "    <tr style=\"text-align: right;\">\n",
       "      <th></th>\n",
       "      <th>BOROUGH</th>\n",
       "      <th>Population</th>\n",
       "    </tr>\n",
       "  </thead>\n",
       "  <tbody>\n",
       "    <tr>\n",
       "      <th>0</th>\n",
       "      <td>Bronx</td>\n",
       "      <td>1446788</td>\n",
       "    </tr>\n",
       "    <tr>\n",
       "      <th>1</th>\n",
       "      <td>Brooklyn</td>\n",
       "      <td>2648452</td>\n",
       "    </tr>\n",
       "    <tr>\n",
       "      <th>2</th>\n",
       "      <td>Manhattan</td>\n",
       "      <td>1638281</td>\n",
       "    </tr>\n",
       "    <tr>\n",
       "      <th>3</th>\n",
       "      <td>Queens</td>\n",
       "      <td>2330295</td>\n",
       "    </tr>\n",
       "    <tr>\n",
       "      <th>4</th>\n",
       "      <td>Staten Island</td>\n",
       "      <td>487155</td>\n",
       "    </tr>\n",
       "  </tbody>\n",
       "</table>\n",
       "</div>"
      ],
      "text/plain": [
       "         BOROUGH  Population\n",
       "0          Bronx     1446788\n",
       "1       Brooklyn     2648452\n",
       "2      Manhattan     1638281\n",
       "3         Queens     2330295\n",
       "4  Staten Island      487155"
      ]
     },
     "execution_count": 16,
     "metadata": {},
     "output_type": "execute_result"
    }
   ],
   "source": [
    "# Load the population data (use the provided values)\n",
    "population_data = pd.DataFrame({\n",
    "    'BOROUGH': ['Bronx', 'Brooklyn', 'Manhattan', 'Queens', 'Staten Island'],\n",
    "    'Population': [1446788, 2648452, 1638281, 2330295, 487155]\n",
    "})\n",
    "population_data"
   ]
  },
  {
   "cell_type": "code",
   "execution_count": null,
   "id": "84eda735-a495-4795-85f7-d22e421774c2",
   "metadata": {},
   "outputs": [],
   "source": [
    "# Merge the crash data with the population data based on the 'Borough' column\n",
    "merged_data = pd.merge(df, population_data, on='BOROUGH')\n",
    "merged_data\n",
    "merged_data['DATE'] = pd.to_datetime(merged_data['CRASH DATE_CRASH TIME'])\n",
    "filtered_data = merged_data[merged_data['CRASH DATE_CRASH TIME'].dt.year >= 2012]\n",
    "# Group data by borough and calculate the total number of crashes\n",
    "borough_crash_totals = filtered_data.groupby('BOROUGH')['CRASH DATE_CRASH TIME'].count().reset_index()\n",
    "borough_crash_totals = borough_crash_totals.rename(columns={'CRASH DATE_CRASH TIME': 'Total Crashes'})\n",
    "borough_crash_totals\n",
    "# Calculate crashes per 100,000 people\n",
    "borough_crash_totals['Crashes per 100,000 People'] = (borough_crash_totals['Total Crashes'] / borough_crash_totals['Population']) * 100000"
   ]
  },
  {
   "cell_type": "markdown",
   "id": "ef0c5d5b-e968-4be8-b7b7-865bb3fc23d4",
   "metadata": {},
   "source": [
    "## Analyzing the leading cause of crashes"
   ]
  },
  {
   "cell_type": "code",
   "execution_count": 18,
   "id": "e0b6e9df-992b-418b-b494-e6035afe5a31",
   "metadata": {
    "tags": []
   },
   "outputs": [
    {
     "name": "stdout",
     "output_type": "stream",
     "text": [
      "Leading Cause of Crashes: Driver Inattention/Distraction\n",
      "Proportion of Accidents Attributable to Leading Cause: 0.3027229539746618\n"
     ]
    }
   ],
   "source": [
    "import pandas as pd\n",
    "\n",
    "# Load the crash data\n",
    "crash_data = pd.read_pickle(\"../shared/Motor_Vehicle_Collisions_-_Crashes.pkl\")\n",
    "\n",
    "crash_data\n",
    "\n",
    "# 1. Filter rows with 'Unspecified'\n",
    "filtered_data = crash_data[crash_data['CONTRIBUTING FACTOR VEHICLE 1'] != 'Unspecified']\n",
    "\n",
    "# 2. Calculate the leading cause\n",
    "leading_cause = filtered_data['CONTRIBUTING FACTOR VEHICLE 1'].mode().values[0]\n",
    "\n",
    "# 3. Calculate the proportion of accidents attributable to the leading cause\n",
    "total_accidents = len(filtered_data)\n",
    "accidents_with_leading_cause = len(filtered_data[filtered_data['CONTRIBUTING FACTOR VEHICLE 1'] == leading_cause])\n",
    "proportion = accidents_with_leading_cause / total_accidents\n",
    "\n",
    "print(\"Leading Cause of Crashes:\", leading_cause)\n",
    "print(\"Proportion of Accidents Attributable to Leading Cause:\", proportion)"
   ]
  },
  {
   "cell_type": "code",
   "execution_count": null,
   "id": "4d0da505-4262-45d4-a64f-6ebd77bed69c",
   "metadata": {},
   "outputs": [],
   "source": []
  },
  {
   "cell_type": "markdown",
   "id": "1335f127-2b39-460f-ad01-fc21a37b6cb6",
   "metadata": {},
   "source": [
    "## Top 3 causes of crashes "
   ]
  },
  {
   "cell_type": "code",
   "execution_count": 19,
   "id": "a97652c3-fc7d-4cb1-b1e2-f5c561f03380",
   "metadata": {
    "tags": []
   },
   "outputs": [
    {
     "name": "stdout",
     "output_type": "stream",
     "text": [
      "Top 3 Causes of Crashes (Ignoring 'Unspecified'): ['Driver Inattention/Distraction', 'Failure to Yield Right-of-Way', 'Following Too Closely']\n",
      "Proportion of Total Crashes Accounted for by Top 3 Causes: 0.4737010461641528\n"
     ]
    }
   ],
   "source": [
    "# 1. Filter rows with 'Unspecified'\n",
    "filtered_data = crash_data[crash_data['CONTRIBUTING FACTOR VEHICLE 1'] != 'Unspecified']\n",
    "\n",
    "# 2. Calculate the top 3 causes (ignoring 'Unspecified')\n",
    "top_3_causes = filtered_data['CONTRIBUTING FACTOR VEHICLE 1'].value_counts().head(3).index.tolist()\n",
    "\n",
    "# 3. Calculate the proportion of total crashes accounted for by the top 3 causes\n",
    "total_accidents = len(filtered_data)\n",
    "accidents_with_top_3_causes = len(filtered_data[filtered_data['CONTRIBUTING FACTOR VEHICLE 1'].isin(top_3_causes)])\n",
    "proportion = accidents_with_top_3_causes / total_accidents\n",
    "\n",
    "print(\"Top 3 Causes of Crashes (Ignoring 'Unspecified'):\", top_3_causes)\n",
    "print(\"Proportion of Total Crashes Accounted for by Top 3 Causes:\", proportion)"
   ]
  },
  {
   "cell_type": "code",
   "execution_count": null,
   "id": "ac628cb6-04cb-4fc5-bd7f-a4040fefe20a",
   "metadata": {},
   "outputs": [],
   "source": []
  },
  {
   "cell_type": "markdown",
   "id": "af729ee2-786e-4c89-abfd-e3d24e2823f1",
   "metadata": {},
   "source": [
    "## Analyzing fatalities"
   ]
  },
  {
   "cell_type": "code",
   "execution_count": 20,
   "id": "eca5bee3-6ec7-4ac2-98c1-d97267e9104b",
   "metadata": {
    "tags": []
   },
   "outputs": [
    {
     "name": "stdout",
     "output_type": "stream",
     "text": [
      "Total Count of Accidents Involving at Least One Fatality since 2012: 2804\n"
     ]
    }
   ],
   "source": [
    "# Convert the 'DATE' column to datetime\n",
    "crash_data['CRASH DATE_CRASH TIME'] = pd.to_datetime(crash_data['CRASH DATE_CRASH TIME'])\n",
    "\n",
    "# 1. Filter data for accidents since 2012\n",
    "filtered_data = crash_data[crash_data['CRASH DATE_CRASH TIME'].dt.year >= 2012]\n",
    "\n",
    "# 2. Identify accidents with at least one fatality\n",
    "fatal_accidents = filtered_data[filtered_data['NUMBER OF PERSONS KILLED'] >= 1]\n",
    "\n",
    "# Get the total count of fatal accidents\n",
    "total_fatal_accidents = len(fatal_accidents)\n",
    "\n",
    "print(\"Total Count of Accidents Involving at Least One Fatality since 2012:\", total_fatal_accidents)"
   ]
  },
  {
   "cell_type": "code",
   "execution_count": null,
   "id": "21b4066e-5d0f-4c42-92ab-5485d4a5b6b3",
   "metadata": {},
   "outputs": [],
   "source": []
  },
  {
   "cell_type": "markdown",
   "id": "529a81c2-4eec-46d5-be60-1ff75d82baf5",
   "metadata": {},
   "source": [
    "## Likelihood of fatal accidents\n",
    "#### On average, out of every 1000 accidents, how many have resulted in at least one person dead?"
   ]
  },
  {
   "cell_type": "code",
   "execution_count": 21,
   "id": "27cd0c11-22cf-4fd4-8a08-4947391358c9",
   "metadata": {
    "tags": []
   },
   "outputs": [
    {
     "name": "stdout",
     "output_type": "stream",
     "text": [
      "On Average, for Every 1000 Accidents, How Many Have Resulted in at Least One Person Dead: 1.3893258747079764\n"
     ]
    }
   ],
   "source": [
    "# Convert the 'DATE' column to datetime\n",
    "crash_data['CRASH DATE_CRASH TIME'] = pd.to_datetime(crash_data['CRASH DATE_CRASH TIME'])\n",
    "\n",
    "# 1. Filter data for accidents since 2012\n",
    "filtered_data = crash_data[crash_data['CRASH DATE_CRASH TIME'].dt.year >= 2012]\n",
    "\n",
    "# 2. Count accidents with 1 or more deaths\n",
    "fatal_accidents = filtered_data[filtered_data['NUMBER OF PERSONS KILLED'] >= 1]\n",
    "count_fatal_accidents = len(fatal_accidents)\n",
    "\n",
    "# 3. Calculate the average per 1000 accidents\n",
    "total_accidents = len(filtered_data)\n",
    "average_per_1000_accidents = (count_fatal_accidents / total_accidents) * 1000\n",
    "\n",
    "print(\"On Average, for Every 1000 Accidents, How Many Have Resulted in at Least One Person Dead:\", average_per_1000_accidents)\n"
   ]
  },
  {
   "cell_type": "code",
   "execution_count": null,
   "id": "83bc33bb-ba4e-4968-a67b-6fb4b8ba431c",
   "metadata": {},
   "outputs": [],
   "source": []
  },
  {
   "cell_type": "markdown",
   "id": "8ad2d315-425c-44bb-a6ee-33f9941e591c",
   "metadata": {},
   "source": [
    "## Missing data\n",
    "#### What proportion of accidents in the data do not have a Borough code?"
   ]
  },
  {
   "cell_type": "code",
   "execution_count": 22,
   "id": "82ff7c6c-6e89-4f47-b960-2bdcfde66f5d",
   "metadata": {
    "tags": []
   },
   "outputs": [
    {
     "name": "stdout",
     "output_type": "stream",
     "text": [
      "Proportion of Accidents without a Borough Code: 0.3110890897784957\n"
     ]
    }
   ],
   "source": [
    "# 1. Check for missing Borough codes\n",
    "missing_borough_count = crash_data['BOROUGH'].isna().sum()\n",
    "\n",
    "# 2. Calculate the proportion of accidents without a Borough code\n",
    "total_accidents = len(crash_data)\n",
    "proportion_missing_borough = missing_borough_count / total_accidents\n",
    "\n",
    "print(\"Proportion of Accidents without a Borough Code:\", proportion_missing_borough)\n"
   ]
  },
  {
   "cell_type": "code",
   "execution_count": null,
   "id": "0a145e34-c267-4cb5-9c1d-459b9826743d",
   "metadata": {},
   "outputs": [],
   "source": []
  },
  {
   "cell_type": "markdown",
   "id": "54f883ce-64fe-4c77-a4a3-49def210382d",
   "metadata": {},
   "source": [
    "## Which combinations of vehicles have the most number of accidents"
   ]
  },
  {
   "cell_type": "code",
   "execution_count": 23,
   "id": "3402f776-310a-43f3-85a3-746556e59eae",
   "metadata": {
    "tags": []
   },
   "outputs": [
    {
     "name": "stdout",
     "output_type": "stream",
     "text": [
      "Combination of Vehicles with the Most Accidents: Sedan + Sedan\n",
      "Number of Accidents Involving this Combination: 197944\n"
     ]
    }
   ],
   "source": [
    "# Drop rows where either 'VEHICLE TYPE CODE 1' or 'VEHICLE TYPE CODE 2' is missing\n",
    "crash_data.dropna(subset=['VEHICLE TYPE CODE 1', 'VEHICLE TYPE CODE 2'], inplace=True)\n",
    "\n",
    "# Create a new column 'Vehicle Combination' to represent the combination of two vehicles\n",
    "crash_data['Vehicle Combination'] = crash_data['VEHICLE TYPE CODE 1'] + ' + ' + crash_data['VEHICLE TYPE CODE 2']\n",
    "\n",
    "# Find the combination of vehicles with the most accidents\n",
    "most_common_combination = crash_data['Vehicle Combination'].mode().values[0]\n",
    "most_common_combination_count = crash_data['Vehicle Combination'].value_counts().max()\n",
    "\n",
    "print(\"Combination of Vehicles with the Most Accidents:\", most_common_combination)\n",
    "print(\"Number of Accidents Involving this Combination:\", most_common_combination_count)\n"
   ]
  },
  {
   "cell_type": "code",
   "execution_count": null,
   "id": "21c659ff-2e5a-47af-b3ea-7f7578cf69f2",
   "metadata": {},
   "outputs": [],
   "source": []
  },
  {
   "cell_type": "markdown",
   "id": "3ca87ac5-5ade-4e1c-aeb8-0704afe6b2ac",
   "metadata": {},
   "source": [
    "***  \n",
    "## Finished"
   ]
  },
  {
   "cell_type": "code",
   "execution_count": null,
   "id": "b9c8b70c-be57-489a-823f-fc1762926532",
   "metadata": {},
   "outputs": [],
   "source": []
  },
  {
   "cell_type": "code",
   "execution_count": null,
   "id": "372cbed9-ce19-4ac7-8cb5-fd4a304f92b2",
   "metadata": {},
   "outputs": [],
   "source": []
  }
 ],
 "metadata": {
  "kernelspec": {
   "display_name": "Python [conda env:mggy8413]",
   "language": "python",
   "name": "conda-env-mggy8413-py"
  },
  "language_info": {
   "codemirror_mode": {
    "name": "ipython",
    "version": 3
   },
   "file_extension": ".py",
   "mimetype": "text/x-python",
   "name": "python",
   "nbconvert_exporter": "python",
   "pygments_lexer": "ipython3",
   "version": "3.10.12"
  }
 },
 "nbformat": 4,
 "nbformat_minor": 5
}
