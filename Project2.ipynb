{
 "cells": [
  {
   "cell_type": "code",
   "execution_count": 9,
   "id": "77277fee-72db-4f18-b192-e1dd182c7791",
   "metadata": {
    "tags": []
   },
   "outputs": [],
   "source": [
    "import pandas as pd"
   ]
  },
  {
   "cell_type": "code",
   "execution_count": 10,
   "id": "44cc441d-64e5-429c-a851-9dde898e8201",
   "metadata": {
    "tags": []
   },
   "outputs": [],
   "source": [
    "df= pd.read_csv('shared/complaints_25Nov21.csv')"
   ]
  },
  {
   "cell_type": "code",
   "execution_count": 4,
   "id": "c06427dd-46dd-40bd-b8de-6567b7721e04",
   "metadata": {
    "tags": []
   },
   "outputs": [
    {
     "data": {
      "text/html": [
       "<div>\n",
       "<style scoped>\n",
       "    .dataframe tbody tr th:only-of-type {\n",
       "        vertical-align: middle;\n",
       "    }\n",
       "\n",
       "    .dataframe tbody tr th {\n",
       "        vertical-align: top;\n",
       "    }\n",
       "\n",
       "    .dataframe thead th {\n",
       "        text-align: right;\n",
       "    }\n",
       "</style>\n",
       "<table border=\"1\" class=\"dataframe\">\n",
       "  <thead>\n",
       "    <tr style=\"text-align: right;\">\n",
       "      <th></th>\n",
       "      <th>Date received</th>\n",
       "      <th>Product</th>\n",
       "      <th>Sub-product</th>\n",
       "      <th>Issue</th>\n",
       "      <th>Sub-issue</th>\n",
       "      <th>Consumer complaint narrative</th>\n",
       "      <th>Company public response</th>\n",
       "      <th>Company</th>\n",
       "      <th>State</th>\n",
       "      <th>ZIP code</th>\n",
       "      <th>Tags</th>\n",
       "      <th>Consumer consent provided?</th>\n",
       "      <th>Submitted via</th>\n",
       "      <th>Date sent to company</th>\n",
       "      <th>Company response to consumer</th>\n",
       "      <th>Timely response?</th>\n",
       "      <th>Consumer disputed?</th>\n",
       "      <th>Complaint ID</th>\n",
       "    </tr>\n",
       "  </thead>\n",
       "  <tbody>\n",
       "    <tr>\n",
       "      <th>0</th>\n",
       "      <td>2016-10-26</td>\n",
       "      <td>Money transfers</td>\n",
       "      <td>International money transfer</td>\n",
       "      <td>Other transaction issues</td>\n",
       "      <td>NaN</td>\n",
       "      <td>To whom it concerns, I would like to file a fo...</td>\n",
       "      <td>Company has responded to the consumer and the ...</td>\n",
       "      <td>CITIBANK, N.A.</td>\n",
       "      <td>NaN</td>\n",
       "      <td>NaN</td>\n",
       "      <td>NaN</td>\n",
       "      <td>Consent provided</td>\n",
       "      <td>Web</td>\n",
       "      <td>2016-10-29</td>\n",
       "      <td>Closed with explanation</td>\n",
       "      <td>Yes</td>\n",
       "      <td>No</td>\n",
       "      <td>2180490</td>\n",
       "    </tr>\n",
       "    <tr>\n",
       "      <th>1</th>\n",
       "      <td>2015-03-27</td>\n",
       "      <td>Bank account or service</td>\n",
       "      <td>Other bank product/service</td>\n",
       "      <td>Account opening, closing, or management</td>\n",
       "      <td>NaN</td>\n",
       "      <td>My name is XXXX XXXX XXXX and huband name is X...</td>\n",
       "      <td>Company chooses not to provide a public response</td>\n",
       "      <td>CITIBANK, N.A.</td>\n",
       "      <td>PA</td>\n",
       "      <td>151XX</td>\n",
       "      <td>Older American</td>\n",
       "      <td>Consent provided</td>\n",
       "      <td>Web</td>\n",
       "      <td>2015-03-27</td>\n",
       "      <td>Closed with explanation</td>\n",
       "      <td>Yes</td>\n",
       "      <td>No</td>\n",
       "      <td>1305453</td>\n",
       "    </tr>\n",
       "    <tr>\n",
       "      <th>2</th>\n",
       "      <td>2015-04-20</td>\n",
       "      <td>Bank account or service</td>\n",
       "      <td>Other bank product/service</td>\n",
       "      <td>Making/receiving payments, sending money</td>\n",
       "      <td>NaN</td>\n",
       "      <td>XXXX 2015 : I called to make a payment on XXXX...</td>\n",
       "      <td>Company chooses not to provide a public response</td>\n",
       "      <td>U.S. BANCORP</td>\n",
       "      <td>PA</td>\n",
       "      <td>152XX</td>\n",
       "      <td>NaN</td>\n",
       "      <td>Consent provided</td>\n",
       "      <td>Web</td>\n",
       "      <td>2015-04-22</td>\n",
       "      <td>Closed with monetary relief</td>\n",
       "      <td>Yes</td>\n",
       "      <td>No</td>\n",
       "      <td>1337613</td>\n",
       "    </tr>\n",
       "    <tr>\n",
       "      <th>3</th>\n",
       "      <td>2013-04-29</td>\n",
       "      <td>Mortgage</td>\n",
       "      <td>Conventional fixed mortgage</td>\n",
       "      <td>Application, originator, mortgage broker</td>\n",
       "      <td>NaN</td>\n",
       "      <td>NaN</td>\n",
       "      <td>NaN</td>\n",
       "      <td>JPMORGAN CHASE &amp; CO.</td>\n",
       "      <td>VA</td>\n",
       "      <td>22406</td>\n",
       "      <td>Servicemember</td>\n",
       "      <td>NaN</td>\n",
       "      <td>Phone</td>\n",
       "      <td>2013-04-30</td>\n",
       "      <td>Closed with explanation</td>\n",
       "      <td>Yes</td>\n",
       "      <td>Yes</td>\n",
       "      <td>393900</td>\n",
       "    </tr>\n",
       "    <tr>\n",
       "      <th>4</th>\n",
       "      <td>2013-05-29</td>\n",
       "      <td>Mortgage</td>\n",
       "      <td>Other mortgage</td>\n",
       "      <td>Loan modification,collection,foreclosure</td>\n",
       "      <td>NaN</td>\n",
       "      <td>NaN</td>\n",
       "      <td>NaN</td>\n",
       "      <td>BANK OF AMERICA, NATIONAL ASSOCIATION</td>\n",
       "      <td>GA</td>\n",
       "      <td>30044</td>\n",
       "      <td>NaN</td>\n",
       "      <td>NaN</td>\n",
       "      <td>Referral</td>\n",
       "      <td>2013-05-31</td>\n",
       "      <td>Closed with explanation</td>\n",
       "      <td>Yes</td>\n",
       "      <td>No</td>\n",
       "      <td>418647</td>\n",
       "    </tr>\n",
       "    <tr>\n",
       "      <th>...</th>\n",
       "      <td>...</td>\n",
       "      <td>...</td>\n",
       "      <td>...</td>\n",
       "      <td>...</td>\n",
       "      <td>...</td>\n",
       "      <td>...</td>\n",
       "      <td>...</td>\n",
       "      <td>...</td>\n",
       "      <td>...</td>\n",
       "      <td>...</td>\n",
       "      <td>...</td>\n",
       "      <td>...</td>\n",
       "      <td>...</td>\n",
       "      <td>...</td>\n",
       "      <td>...</td>\n",
       "      <td>...</td>\n",
       "      <td>...</td>\n",
       "      <td>...</td>\n",
       "    </tr>\n",
       "    <tr>\n",
       "      <th>207255</th>\n",
       "      <td>2015-05-24</td>\n",
       "      <td>Debt collection</td>\n",
       "      <td>Credit card</td>\n",
       "      <td>Taking/threatening an illegal action</td>\n",
       "      <td>Sued w/o proper notification of suit</td>\n",
       "      <td>NaN</td>\n",
       "      <td>NaN</td>\n",
       "      <td>JPMORGAN CHASE &amp; CO.</td>\n",
       "      <td>FL</td>\n",
       "      <td>33133</td>\n",
       "      <td>NaN</td>\n",
       "      <td>Consent not provided</td>\n",
       "      <td>Web</td>\n",
       "      <td>2015-05-24</td>\n",
       "      <td>Closed with explanation</td>\n",
       "      <td>Yes</td>\n",
       "      <td>No</td>\n",
       "      <td>1390395</td>\n",
       "    </tr>\n",
       "    <tr>\n",
       "      <th>207256</th>\n",
       "      <td>2012-01-10</td>\n",
       "      <td>Mortgage</td>\n",
       "      <td>Conventional fixed mortgage</td>\n",
       "      <td>Loan modification,collection,foreclosure</td>\n",
       "      <td>NaN</td>\n",
       "      <td>NaN</td>\n",
       "      <td>NaN</td>\n",
       "      <td>JPMORGAN CHASE &amp; CO.</td>\n",
       "      <td>NY</td>\n",
       "      <td>10312</td>\n",
       "      <td>NaN</td>\n",
       "      <td>NaN</td>\n",
       "      <td>Referral</td>\n",
       "      <td>2012-01-11</td>\n",
       "      <td>Closed without relief</td>\n",
       "      <td>Yes</td>\n",
       "      <td>Yes</td>\n",
       "      <td>12192</td>\n",
       "    </tr>\n",
       "    <tr>\n",
       "      <th>207257</th>\n",
       "      <td>2012-07-17</td>\n",
       "      <td>Student loan</td>\n",
       "      <td>Non-federal student loan</td>\n",
       "      <td>Repaying your loan</td>\n",
       "      <td>NaN</td>\n",
       "      <td>NaN</td>\n",
       "      <td>NaN</td>\n",
       "      <td>BANK OF AMERICA, NATIONAL ASSOCIATION</td>\n",
       "      <td>NH</td>\n",
       "      <td>032XX</td>\n",
       "      <td>NaN</td>\n",
       "      <td>NaN</td>\n",
       "      <td>Web</td>\n",
       "      <td>2012-07-18</td>\n",
       "      <td>Closed with explanation</td>\n",
       "      <td>Yes</td>\n",
       "      <td>No</td>\n",
       "      <td>118351</td>\n",
       "    </tr>\n",
       "    <tr>\n",
       "      <th>207258</th>\n",
       "      <td>2016-09-29</td>\n",
       "      <td>Bank account or service</td>\n",
       "      <td>Checking account</td>\n",
       "      <td>Account opening, closing, or management</td>\n",
       "      <td>NaN</td>\n",
       "      <td>Near the end of XXXX 2016 I opened a Citigold ...</td>\n",
       "      <td>Company has responded to the consumer and the ...</td>\n",
       "      <td>CITIBANK, N.A.</td>\n",
       "      <td>CA</td>\n",
       "      <td>900XX</td>\n",
       "      <td>NaN</td>\n",
       "      <td>Consent provided</td>\n",
       "      <td>Web</td>\n",
       "      <td>2016-09-29</td>\n",
       "      <td>Closed with non-monetary relief</td>\n",
       "      <td>Yes</td>\n",
       "      <td>No</td>\n",
       "      <td>2138969</td>\n",
       "    </tr>\n",
       "    <tr>\n",
       "      <th>207259</th>\n",
       "      <td>2015-04-29</td>\n",
       "      <td>Mortgage</td>\n",
       "      <td>Conventional fixed mortgage</td>\n",
       "      <td>Loan modification,collection,foreclosure</td>\n",
       "      <td>NaN</td>\n",
       "      <td>My father died in XX/XX/XXXX. Left me his only...</td>\n",
       "      <td>NaN</td>\n",
       "      <td>CITIBANK, N.A.</td>\n",
       "      <td>OK</td>\n",
       "      <td>740XX</td>\n",
       "      <td>NaN</td>\n",
       "      <td>Consent provided</td>\n",
       "      <td>Web</td>\n",
       "      <td>2015-04-29</td>\n",
       "      <td>Closed with explanation</td>\n",
       "      <td>Yes</td>\n",
       "      <td>No</td>\n",
       "      <td>1352738</td>\n",
       "    </tr>\n",
       "  </tbody>\n",
       "</table>\n",
       "<p>207260 rows × 18 columns</p>\n",
       "</div>"
      ],
      "text/plain": [
       "       Date received                  Product                   Sub-product  \\\n",
       "0         2016-10-26          Money transfers  International money transfer   \n",
       "1         2015-03-27  Bank account or service    Other bank product/service   \n",
       "2         2015-04-20  Bank account or service    Other bank product/service   \n",
       "3         2013-04-29                 Mortgage   Conventional fixed mortgage   \n",
       "4         2013-05-29                 Mortgage                Other mortgage   \n",
       "...              ...                      ...                           ...   \n",
       "207255    2015-05-24          Debt collection                   Credit card   \n",
       "207256    2012-01-10                 Mortgage   Conventional fixed mortgage   \n",
       "207257    2012-07-17             Student loan      Non-federal student loan   \n",
       "207258    2016-09-29  Bank account or service              Checking account   \n",
       "207259    2015-04-29                 Mortgage   Conventional fixed mortgage   \n",
       "\n",
       "                                           Issue  \\\n",
       "0                       Other transaction issues   \n",
       "1        Account opening, closing, or management   \n",
       "2       Making/receiving payments, sending money   \n",
       "3       Application, originator, mortgage broker   \n",
       "4       Loan modification,collection,foreclosure   \n",
       "...                                          ...   \n",
       "207255      Taking/threatening an illegal action   \n",
       "207256  Loan modification,collection,foreclosure   \n",
       "207257                        Repaying your loan   \n",
       "207258   Account opening, closing, or management   \n",
       "207259  Loan modification,collection,foreclosure   \n",
       "\n",
       "                                   Sub-issue  \\\n",
       "0                                        NaN   \n",
       "1                                        NaN   \n",
       "2                                        NaN   \n",
       "3                                        NaN   \n",
       "4                                        NaN   \n",
       "...                                      ...   \n",
       "207255  Sued w/o proper notification of suit   \n",
       "207256                                   NaN   \n",
       "207257                                   NaN   \n",
       "207258                                   NaN   \n",
       "207259                                   NaN   \n",
       "\n",
       "                             Consumer complaint narrative  \\\n",
       "0       To whom it concerns, I would like to file a fo...   \n",
       "1       My name is XXXX XXXX XXXX and huband name is X...   \n",
       "2       XXXX 2015 : I called to make a payment on XXXX...   \n",
       "3                                                     NaN   \n",
       "4                                                     NaN   \n",
       "...                                                   ...   \n",
       "207255                                                NaN   \n",
       "207256                                                NaN   \n",
       "207257                                                NaN   \n",
       "207258  Near the end of XXXX 2016 I opened a Citigold ...   \n",
       "207259  My father died in XX/XX/XXXX. Left me his only...   \n",
       "\n",
       "                                  Company public response  \\\n",
       "0       Company has responded to the consumer and the ...   \n",
       "1        Company chooses not to provide a public response   \n",
       "2        Company chooses not to provide a public response   \n",
       "3                                                     NaN   \n",
       "4                                                     NaN   \n",
       "...                                                   ...   \n",
       "207255                                                NaN   \n",
       "207256                                                NaN   \n",
       "207257                                                NaN   \n",
       "207258  Company has responded to the consumer and the ...   \n",
       "207259                                                NaN   \n",
       "\n",
       "                                      Company State ZIP code            Tags  \\\n",
       "0                              CITIBANK, N.A.   NaN      NaN             NaN   \n",
       "1                              CITIBANK, N.A.    PA    151XX  Older American   \n",
       "2                                U.S. BANCORP    PA    152XX             NaN   \n",
       "3                        JPMORGAN CHASE & CO.    VA    22406   Servicemember   \n",
       "4       BANK OF AMERICA, NATIONAL ASSOCIATION    GA    30044             NaN   \n",
       "...                                       ...   ...      ...             ...   \n",
       "207255                   JPMORGAN CHASE & CO.    FL    33133             NaN   \n",
       "207256                   JPMORGAN CHASE & CO.    NY    10312             NaN   \n",
       "207257  BANK OF AMERICA, NATIONAL ASSOCIATION    NH    032XX             NaN   \n",
       "207258                         CITIBANK, N.A.    CA    900XX             NaN   \n",
       "207259                         CITIBANK, N.A.    OK    740XX             NaN   \n",
       "\n",
       "       Consumer consent provided? Submitted via Date sent to company  \\\n",
       "0                Consent provided           Web           2016-10-29   \n",
       "1                Consent provided           Web           2015-03-27   \n",
       "2                Consent provided           Web           2015-04-22   \n",
       "3                             NaN         Phone           2013-04-30   \n",
       "4                             NaN      Referral           2013-05-31   \n",
       "...                           ...           ...                  ...   \n",
       "207255       Consent not provided           Web           2015-05-24   \n",
       "207256                        NaN      Referral           2012-01-11   \n",
       "207257                        NaN           Web           2012-07-18   \n",
       "207258           Consent provided           Web           2016-09-29   \n",
       "207259           Consent provided           Web           2015-04-29   \n",
       "\n",
       "           Company response to consumer Timely response? Consumer disputed?  \\\n",
       "0               Closed with explanation              Yes                 No   \n",
       "1               Closed with explanation              Yes                 No   \n",
       "2           Closed with monetary relief              Yes                 No   \n",
       "3               Closed with explanation              Yes                Yes   \n",
       "4               Closed with explanation              Yes                 No   \n",
       "...                                 ...              ...                ...   \n",
       "207255          Closed with explanation              Yes                 No   \n",
       "207256            Closed without relief              Yes                Yes   \n",
       "207257          Closed with explanation              Yes                 No   \n",
       "207258  Closed with non-monetary relief              Yes                 No   \n",
       "207259          Closed with explanation              Yes                 No   \n",
       "\n",
       "        Complaint ID  \n",
       "0            2180490  \n",
       "1            1305453  \n",
       "2            1337613  \n",
       "3             393900  \n",
       "4             418647  \n",
       "...              ...  \n",
       "207255       1390395  \n",
       "207256         12192  \n",
       "207257        118351  \n",
       "207258       2138969  \n",
       "207259       1352738  \n",
       "\n",
       "[207260 rows x 18 columns]"
      ]
     },
     "execution_count": 4,
     "metadata": {},
     "output_type": "execute_result"
    }
   ],
   "source": [
    "df"
   ]
  },
  {
   "cell_type": "code",
   "execution_count": 11,
   "id": "29ebb5ed-9c6e-471d-a21f-5697e4967104",
   "metadata": {
    "tags": []
   },
   "outputs": [],
   "source": [
    "\n",
    "# Define your predictors (X) using the specified columns\n",
    "selected_columns = ['Product', 'Sub-product', 'Issue', 'State', 'Tags', 'Submitted via', 'Company response to consumer', 'Timely response?']\n",
    "X = df[selected_columns]\n",
    "\n",
    "from sklearn import preprocessing\n",
    "\n",
    "# Convert 'Consumer disputed?' to 0s and 1s using label encoding\n",
    "le = preprocessing.LabelEncoder()\n",
    "y = le.fit_transform(df['Consumer disputed?'])\n"
   ]
  },
  {
   "cell_type": "code",
   "execution_count": 12,
   "id": "fef71ba3-3f14-4dc4-a739-593dcce2b4f2",
   "metadata": {
    "tags": []
   },
   "outputs": [],
   "source": [
    "from sklearn.model_selection import train_test_split\n",
    "\n",
    "# Split the data into a training and testing set (80/20 split)\n",
    "X_train, X_test, y_train, y_test = train_test_split(X, y, test_size=0.2, random_state=123)\n"
   ]
  },
  {
   "cell_type": "code",
   "execution_count": 13,
   "id": "e6760b93-1fdc-4dc7-a0c4-0c50a6274810",
   "metadata": {
    "tags": []
   },
   "outputs": [
    {
     "name": "stdout",
     "output_type": "stream",
     "text": [
      "0.21684719675769565\n"
     ]
    }
   ],
   "source": [
    "from imblearn.under_sampling import RandomUnderSampler\n",
    "\n",
    "# Calculate the proportion of complaints that are disputed in the training dataset\n",
    "proportion_disputed = sum(y_train) / len(y_train)\n",
    "print (proportion_disputed)\n",
    "\n",
    "# Check if the proportion is less than 30%\n",
    "if proportion_disputed < 0.3:\n",
    "    # Apply random undersampling to balance the dataset\n",
    "    undersampler = RandomUnderSampler(random_state=123)\n",
    "    X_train, y_train = undersampler.fit_resample(X_train, y_train)\n"
   ]
  },
  {
   "cell_type": "code",
   "execution_count": 14,
   "id": "c7b430e7-ed21-4e2e-8d01-9ad116505f5c",
   "metadata": {
    "tags": []
   },
   "outputs": [
    {
     "name": "stderr",
     "output_type": "stream",
     "text": [
      "/opt/conda/envs/mggy8413/lib/python3.10/site-packages/sklearn/preprocessing/_encoders.py:972: FutureWarning: `sparse` was renamed to `sparse_output` in version 1.2 and will be removed in 1.4. `sparse_output` is ignored unless you leave `sparse` to its default value.\n",
      "  warnings.warn(\n"
     ]
    }
   ],
   "source": [
    "from sklearn.preprocessing import OneHotEncoder\n",
    "# Import XGBoost's XGBClassifier\n",
    "from xgboost import XGBClassifier\n",
    "\n",
    "# Create an instance of XGBClassifier\n",
    "xgb = XGBClassifier()\n",
    "\n",
    "# Now you can use xgb for your machine learning tasks\n",
    "\n",
    "\n",
    "# Initialize the XGBoost Classifier with random state\n",
    "model_xgb = XGBClassifier(random_state=123)\n",
    "\n",
    "# Define the categorical columns to be one-hot encoded\n",
    "categorical_cols = ['Product', 'Sub-product', 'Issue', 'State', 'Tags', 'Submitted via', 'Company response to consumer', 'Timely response?']\n",
    "\n",
    "# Create a one-hot encoder that handles unknown categories\n",
    "one_hot_encoder = OneHotEncoder(handle_unknown='ignore', sparse=False)\n",
    "\n",
    "# Fit the encoder on the training data and transform both training and test data\n",
    "X_train_encoded = one_hot_encoder.fit_transform(X_train[categorical_cols])\n",
    "X_test_encoded = one_hot_encoder.transform(X_test[categorical_cols])\n",
    "\n",
    "# Concatenate the one-hot encoded features with the non-categorical features\n",
    "import numpy as np\n",
    "X_train_encoded = np.concatenate((X_train_encoded, X_train.drop(categorical_cols, axis=1)), axis=1)\n",
    "X_test_encoded = np.concatenate((X_test_encoded, X_test.drop(categorical_cols, axis=1)), axis=1)\n",
    "\n",
    "# Fit the model on the training data\n",
    "model_xgb.fit(X_train_encoded, y_train)\n",
    "\n",
    "# Make predictions on the test set\n",
    "y_pred = model_xgb.predict(X_test_encoded)\n"
   ]
  },
  {
   "cell_type": "code",
   "execution_count": 19,
   "id": "d15c0c0b-3f97-47ea-bc97-60a60f55bc64",
   "metadata": {
    "tags": []
   },
   "outputs": [
    {
     "name": "stdout",
     "output_type": "stream",
     "text": [
      "Classification Report:\n",
      "               precision    recall  f1-score   support\n",
      "\n",
      "           0       0.84      0.53      0.65     32504\n",
      "           1       0.27      0.63      0.38      8948\n",
      "\n",
      "    accuracy                           0.55     41452\n",
      "   macro avg       0.55      0.58      0.51     41452\n",
      "weighted avg       0.72      0.55      0.59     41452\n",
      "\n",
      "\n",
      "Confusion Matrix:\n",
      " [[17128 15376]\n",
      " [ 3302  5646]]\n"
     ]
    }
   ],
   "source": [
    "from sklearn.metrics import classification_report, confusion_matrix\n",
    "\n",
    "# Create a classification report\n",
    "class_report = classification_report(y_test, y_pred)\n",
    "\n",
    "# Create a confusion matrix\n",
    "conf_matrix = confusion_matrix(y_test, y_pred)\n",
    "\n",
    "print(\"Classification Report:\\n\", class_report)\n",
    "print(\"\\nConfusion Matrix:\\n\", conf_matrix)\n"
   ]
  },
  {
   "cell_type": "code",
   "execution_count": 20,
   "id": "82becf7d-3758-4a24-96e2-2d97a1b9895e",
   "metadata": {
    "tags": []
   },
   "outputs": [
    {
     "name": "stdout",
     "output_type": "stream",
     "text": [
      "Total cost for the test set: $9424520\n"
     ]
    }
   ],
   "source": [
    "# Define the cost structure\n",
    "cost_disputed = 600\n",
    "cost_non_disputed = 100\n",
    "extra_due_diligence_cost = 90\n",
    "\n",
    "# Calculate the total cost for the test set\n",
    "total_cost = (y_test == 1).sum() * cost_disputed + (y_test == 0).sum() * cost_non_disputed + (y_test == 1).sum() * extra_due_diligence_cost\n",
    "\n",
    "# Print the total cost\n",
    "print(f\"Total cost for the test set: ${total_cost}\")\n"
   ]
  },
  {
   "cell_type": "code",
   "execution_count": 21,
   "id": "6831a5b3-e0c4-40ac-91e9-f08477ab21ea",
   "metadata": {
    "tags": []
   },
   "outputs": [
    {
     "name": "stdout",
     "output_type": "stream",
     "text": [
      "Total cost based on the model results: $8762620\n"
     ]
    }
   ],
   "source": [
    "# Define the cost structure\n",
    "cost_disputed = 600\n",
    "cost_non_disputed = 100\n",
    "extra_due_diligence_cost = 90\n",
    "\n",
    "# Extract the values from the confusion matrix\n",
    "tn, fp, fn, tp = conf_matrix.ravel()\n",
    "\n",
    "# Calculate the total cost based on the confusion matrix\n",
    "total_cost_model = tp * cost_disputed + tn * cost_non_disputed + fn * cost_disputed + extra_due_diligence_cost * (fp + fn)\n",
    "\n",
    "# Print the total cost based on the model results\n",
    "print(f\"Total cost based on the model results: ${total_cost_model}\")\n"
   ]
  },
  {
   "cell_type": "code",
   "execution_count": 22,
   "id": "44bfbe20-781a-4180-a35a-d6d7c2b40826",
   "metadata": {
    "tags": []
   },
   "outputs": [
    {
     "name": "stdout",
     "output_type": "stream",
     "text": [
      "Proportion of consumers who raised a dispute in the test set: 21.59%\n"
     ]
    }
   ],
   "source": [
    "#Question1\n",
    "\n",
    "# Calculate the proportion of consumers who raised a dispute in the test set\n",
    "proportion_disputed_test = (y_test == 1).sum() / len(y_test)\n",
    "\n",
    "# Print the proportion\n",
    "print(f\"Proportion of consumers who raised a dispute in the test set: {proportion_disputed_test:.2%}\")\n"
   ]
  },
  {
   "cell_type": "code",
   "execution_count": 23,
   "id": "ad020adf-dab9-423e-92ed-76b380ee46c8",
   "metadata": {
    "tags": []
   },
   "outputs": [
    {
     "name": "stdout",
     "output_type": "stream",
     "text": [
      "Proportion of consumers who raised a dispute in the modified training set: 50.00%\n"
     ]
    }
   ],
   "source": [
    "#Question2\n",
    "\n",
    "# Calculate the proportion of consumers who raised a dispute in the modified training set\n",
    "proportion_disputed_train = (y_train == 1).sum() / len(y_train)\n",
    "\n",
    "# Print the proportion\n",
    "print(f\"Proportion of consumers who raised a dispute in the modified training set: {proportion_disputed_train:.2%}\")\n"
   ]
  },
  {
   "cell_type": "code",
   "execution_count": 24,
   "id": "61108813-4ade-45f6-8fa3-e0c862715c15",
   "metadata": {
    "tags": []
   },
   "outputs": [
    {
     "name": "stdout",
     "output_type": "stream",
     "text": [
      "Recall for 'Consumer disputed?' = 'Yes' on the test set: 0.63\n"
     ]
    }
   ],
   "source": [
    "#3\n",
    "from xgboost import XGBClassifier\n",
    "from sklearn.compose import ColumnTransformer\n",
    "from sklearn.pipeline import Pipeline\n",
    "from sklearn.preprocessing import OneHotEncoder\n",
    "from sklearn.metrics import recall_score\n",
    "\n",
    "# Define the cost structure\n",
    "cost_disputed = 600\n",
    "cost_non_disputed = 100\n",
    "extra_due_diligence_cost = 90\n",
    "\n",
    "# Define the categorical columns to be one-hot encoded\n",
    "categorical_cols = ['Product', 'Sub-product', 'Issue', 'State', 'Tags', 'Submitted via', 'Company response to consumer', 'Timely response?']\n",
    "\n",
    "# Define the remaining non-categorical columns\n",
    "non_categorical_cols = [col for col in X_train.columns if col not in categorical_cols]\n",
    "\n",
    "# Create a column transformer to apply one-hot encoding to the categorical columns\n",
    "preprocessor = ColumnTransformer(\n",
    "    transformers=[('cat', OneHotEncoder(handle_unknown='ignore'), categorical_cols)],\n",
    "    remainder='passthrough'  # Pass through the non-categorical columns\n",
    ")\n",
    "\n",
    "# Create a pipeline to combine preprocessor and the XGBoost classifier\n",
    "pipeline = Pipeline([\n",
    "    ('preprocessor', preprocessor),\n",
    "    ('classifier', XGBClassifier(random_state=123))\n",
    "])\n",
    "\n",
    "# Fit the model on the training data\n",
    "pipeline.fit(X_train, y_train)\n",
    "\n",
    "# Make predictions on the test set\n",
    "y_pred = pipeline.predict(X_test)\n",
    "\n",
    "# Calculate the recall for the category 'Consumer disputed?' = 'Yes'\n",
    "recall_consumer_disputed_yes = recall_score(y_test, y_pred, pos_label=1)\n",
    "\n",
    "print(f\"Recall for 'Consumer disputed?' = 'Yes' on the test set: {recall_consumer_disputed_yes:.2f}\")\n"
   ]
  },
  {
   "cell_type": "code",
   "execution_count": 26,
   "id": "5edf5257-53b5-4b81-a65e-87f35e0637e2",
   "metadata": {
    "tags": []
   },
   "outputs": [
    {
     "name": "stdout",
     "output_type": "stream",
     "text": [
      "Total cost for the test set without a model: $8619200\n"
     ]
    }
   ],
   "source": [
    "#4\n",
    "# Define the cost structure\n",
    "cost_disputed = 600\n",
    "cost_non_disputed = 100\n",
    "extra_due_diligence_cost = 90\n",
    "\n",
    "# Calculate the total cost for the test set without a model\n",
    "total_cost_no_model = (y_test == 1).sum() * cost_disputed + (y_test == 0).sum() * cost_non_disputed \n",
    "print(f\"Total cost for the test set without a model: ${total_cost_no_model}\")\n"
   ]
  },
  {
   "cell_type": "code",
   "execution_count": 27,
   "id": "83dc30ec-40b6-4537-bea0-993dd39e5846",
   "metadata": {
    "tags": []
   },
   "outputs": [
    {
     "name": "stdout",
     "output_type": "stream",
     "text": [
      "Total cost to the banks with the model: $3934980\n"
     ]
    }
   ],
   "source": [
    "#5\n",
    "# Calculate the cost for each complaint based on the model's predictions\n",
    "cost_per_complaint = np.where(y_pred == 1, extra_due_diligence_cost, cost_non_disputed)\n",
    "\n",
    "# Calculate the total cost based on the cost per complaint\n",
    "total_cost_with_model = sum(cost_per_complaint)\n",
    "\n",
    "print(f\"Total cost to the banks with the model: ${total_cost_with_model}\")\n",
    "\n"
   ]
  },
  {
   "cell_type": "code",
   "execution_count": 35,
   "id": "2c4eddd4-dde5-4860-a6d7-cde8131aed85",
   "metadata": {
    "tags": []
   },
   "outputs": [
    {
     "name": "stdout",
     "output_type": "stream",
     "text": [
      "Estimated total cost with a model : $7688180\n",
      "[[17128 15376]\n",
      " [ 3302  5646]]\n"
     ]
    }
   ],
   "source": [
    "# Calculate the confusion matrix\n",
    "cm = confusion_matrix(y_test, y_pred)\n",
    "\n",
    "# Calculate total cost\n",
    "true_negatives, false_positives, false_negatives, true_positives = cm.ravel()\n",
    "\n",
    "cost_with_model = (true_negatives*100) + ((true_positives+false_positives)*(100+90)) + (false_negatives*600)\n",
    "\n",
    "print(f\"Estimated total cost with a model : ${cost_with_model}\")\n",
    "print(cm)\n"
   ]
  },
  {
   "cell_type": "code",
   "execution_count": 29,
   "id": "174ee58d-b87f-4a7a-8d21-57ec56aca235",
   "metadata": {
    "tags": []
   },
   "outputs": [
    {
     "name": "stdout",
     "output_type": "stream",
     "text": [
      "Optimal threshold for lowest total cost: 0.10\n",
      "Lowest total cost achieved: $3792900\n"
     ]
    }
   ],
   "source": [
    "#6\n",
    "import numpy as np\n",
    "\n",
    "# Define the cost structure\n",
    "cost_disputed = 600\n",
    "cost_non_disputed = 100\n",
    "extra_due_diligence_cost = 90\n",
    "\n",
    "# Define the categorical columns to be one-hot encoded\n",
    "categorical_cols = ['Product', 'Sub-product', 'Issue', 'State', 'Tags', 'Submitted via', 'Company response to consumer', 'Timely response?']\n",
    "\n",
    "# Define the remaining non-categorical columns\n",
    "non_categorical_cols = [col for col in X_train.columns if col not in categorical_cols]\n",
    "\n",
    "# Create a column transformer to apply one-hot encoding to the categorical columns\n",
    "preprocessor = ColumnTransformer(\n",
    "    transformers=[('cat', OneHotEncoder(handle_unknown='ignore'), categorical_cols)],\n",
    "    remainder='passthrough'  # Pass through the non-categorical columns\n",
    ")\n",
    "\n",
    "# Create a pipeline to combine preprocessor and the XGBoost classifier\n",
    "pipeline = Pipeline([\n",
    "    ('preprocessor', preprocessor),\n",
    "    ('classifier', XGBClassifier(random_state=123))\n",
    "])\n",
    "\n",
    "# Fit the model on the training data\n",
    "pipeline.fit(X_train, y_train)\n",
    "\n",
    "# Define a range of thresholds to test\n",
    "thresholds = np.arange(0.1, 1.0, 0.05)\n",
    "\n",
    "# Initialize variables to keep track of the best threshold and the lowest total cost\n",
    "best_threshold = 0\n",
    "lowest_cost = float('inf')\n",
    "\n",
    "# Calculate the total cost for each threshold\n",
    "for threshold in thresholds:\n",
    "    # Apply the current threshold to the model's predicted probabilities\n",
    "    y_pred_threshold = (pipeline.predict_proba(X_test)[:, 1] > threshold).astype(int)\n",
    "    \n",
    "    # Calculate the cost for each complaint based on the threshold\n",
    "    cost_per_complaint = np.where(y_pred_threshold == 1, extra_due_diligence_cost, cost_disputed)\n",
    "    \n",
    "    # Calculate the total cost based on the cost per complaint\n",
    "    total_cost_threshold = sum(cost_per_complaint)\n",
    "    \n",
    "    # Check if the total cost with this threshold is the lowest so far\n",
    "    if total_cost_threshold < lowest_cost:\n",
    "        lowest_cost = total_cost_threshold\n",
    "        best_threshold = threshold\n",
    "\n",
    "print(f\"Optimal threshold for lowest total cost: {best_threshold:.2f}\")\n",
    "print(f\"Lowest total cost achieved: ${lowest_cost}\")\n"
   ]
  },
  {
   "cell_type": "code",
   "execution_count": 30,
   "id": "17056516-9177-4862-a5e6-71aeb5eef979",
   "metadata": {},
   "outputs": [
    {
     "name": "stdout",
     "output_type": "stream",
     "text": [
      "Classification Report:\n",
      "               precision    recall  f1-score   support\n",
      "\n",
      "           0       0.84      0.53      0.65     32504\n",
      "           1       0.27      0.63      0.38      8948\n",
      "\n",
      "    accuracy                           0.55     41452\n",
      "   macro avg       0.55      0.58      0.51     41452\n",
      "weighted avg       0.72      0.55      0.59     41452\n",
      "\n",
      "\n",
      "Confusion Matrix:\n",
      " [[17128 15376]\n",
      " [ 3302  5646]]\n"
     ]
    }
   ],
   "source": [
    "# Create a classification report\n",
    "class_report = classification_report(y_test, y_pred)\n",
    "\n",
    "# Create a confusion matrix\n",
    "conf_matrix = confusion_matrix(y_test, y_pred)\n",
    "\n",
    "print(\"Classification Report:\\n\", class_report)\n",
    "print(\"\\nConfusion Matrix:\\n\", conf_matrix)\n"
   ]
  },
  {
   "cell_type": "code",
   "execution_count": null,
   "id": "3471bf64-876b-4b1b-9da4-fc8364771544",
   "metadata": {},
   "outputs": [],
   "source": []
  }
 ],
 "metadata": {
  "kernelspec": {
   "display_name": "Python [conda env:mggy8413]",
   "language": "python",
   "name": "conda-env-mggy8413-py"
  },
  "language_info": {
   "codemirror_mode": {
    "name": "ipython",
    "version": 3
   },
   "file_extension": ".py",
   "mimetype": "text/x-python",
   "name": "python",
   "nbconvert_exporter": "python",
   "pygments_lexer": "ipython3",
   "version": "3.10.12"
  }
 },
 "nbformat": 4,
 "nbformat_minor": 5
}
